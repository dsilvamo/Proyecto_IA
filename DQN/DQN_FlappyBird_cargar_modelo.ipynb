{
 "cells": [
  {
   "cell_type": "markdown",
   "id": "03a02cbd-0af5-48c5-83a7-e05a97db600c",
   "metadata": {},
   "source": [
    "# DQN Flappy Bird y Cargar Modelo entrenado"
   ]
  },
  {
   "cell_type": "code",
   "execution_count": 1,
   "id": "8e44d0a4-57c6-48a7-8c13-4d2e07c55ff4",
   "metadata": {},
   "outputs": [],
   "source": [
    "import time\n",
    "import flappy_bird_gymnasium\n",
    "import gymnasium\n",
    "env = gymnasium.make(\"FlappyBird-v0\")"
   ]
  },
  {
   "cell_type": "code",
   "execution_count": 2,
   "id": "d2e89a9d-39f8-4df6-a223-2d6def7e6d23",
   "metadata": {},
   "outputs": [
    {
     "name": "stdout",
     "output_type": "stream",
     "text": [
      "_____OBSERVATION SPACE_____ \n",
      "\n",
      "Observation Space Box(-inf, inf, (12,), float64)\n",
      "Sample observation [ 0.32662476 -0.64422425  0.28158268  0.98390701  0.43359274 -1.10963593\n",
      " -0.4105028  -0.04454359  0.89713509  0.8021827  -0.35538383 -2.49038922]\n"
     ]
    }
   ],
   "source": [
    "print(\"_____OBSERVATION SPACE_____ \\n\")\n",
    "print(\"Observation Space\", env.observation_space)\n",
    "print(\"Sample observation\", env.observation_space.sample()) # Get a random observation"
   ]
  },
  {
   "cell_type": "code",
   "execution_count": 3,
   "id": "51128e88-5956-44d4-adbf-23b1d64bbf18",
   "metadata": {},
   "outputs": [
    {
     "name": "stdout",
     "output_type": "stream",
     "text": [
      "\n",
      " _____ACTION SPACE_____ \n",
      "\n",
      "Action Space Shape 2\n",
      "Action Space Sample 1\n"
     ]
    }
   ],
   "source": [
    "print(\"\\n _____ACTION SPACE_____ \\n\")\n",
    "print(\"Action Space Shape\", env.action_space.n)\n",
    "print(\"Action Space Sample\", env.action_space.sample()) # Take a random action"
   ]
  },
  {
   "cell_type": "code",
   "execution_count": 4,
   "id": "25d08f7d-2bce-4c18-b0cc-64a6d2d24139",
   "metadata": {},
   "outputs": [],
   "source": [
    "# Modulos\n",
    "import torch\n",
    "import gymnasium as gym\n",
    "from stable_baselines3 import DQN\n",
    "import os"
   ]
  },
  {
   "cell_type": "code",
   "execution_count": 5,
   "id": "0b35ec5a-cad0-41a7-bda7-b9068a8c2ac7",
   "metadata": {},
   "outputs": [],
   "source": [
    "models_dir=\"models/Dqn\"\n",
    "logdir=\"logs_flappy\"\n",
    "\n",
    "if not os.path.exists(models_dir):\n",
    "    os.makedirs(models_dir)\n",
    "    \n",
    "if not os.path.exists(logdir):\n",
    "    os.makedirs(logdir)"
   ]
  },
  {
   "cell_type": "code",
   "execution_count": 16,
   "id": "c9f0d9ca-cea1-4d9b-bcc4-4a1434da103c",
   "metadata": {},
   "outputs": [],
   "source": [
    "#!pip install tensorboard"
   ]
  },
  {
   "cell_type": "markdown",
   "id": "c58024c8-0a82-43e0-b89a-bb2932ccabb0",
   "metadata": {},
   "source": [
    "## Entrenar al Agente"
   ]
  },
  {
   "cell_type": "code",
   "execution_count": 6,
   "id": "10348983-7ffb-47f3-8933-a114a7f80a17",
   "metadata": {},
   "outputs": [],
   "source": [
    "from torch.utils.tensorboard import SummaryWriter"
   ]
  },
  {
   "cell_type": "code",
   "execution_count": 7,
   "id": "34b75d2a-c9cd-470d-b087-cdba4e644770",
   "metadata": {},
   "outputs": [
    {
     "name": "stdout",
     "output_type": "stream",
     "text": [
      "Using cpu device\n",
      "Wrapping the env with a `Monitor` wrapper\n",
      "Wrapping the env in a DummyVecEnv.\n",
      "Logging to logs_flappy\\DQN_flappybird_5\n"
     ]
    },
    {
     "data": {
      "text/plain": [
       "<stable_baselines3.dqn.dqn.DQN at 0x1e5bf93d460>"
      ]
     },
     "execution_count": 7,
     "metadata": {},
     "output_type": "execute_result"
    }
   ],
   "source": [
    "#Modelo\n",
    "model = DQN(\"MlpPolicy\", env, verbose=1, tensorboard_log=logdir, buffer_size=10_000) #device=\"cuda\"\n",
    "\n",
    "#Entrenamiento\n",
    "TIMESTEPS=4_000_000\n",
    "\n",
    "model.learn(total_timesteps=TIMESTEPS, tb_log_name=\"DQN_flappybird\")"
   ]
  },
  {
   "cell_type": "code",
   "execution_count": 23,
   "id": "94ca161b-4e5a-4555-9ad2-9b0d49f38454",
   "metadata": {},
   "outputs": [
    {
     "name": "stdout",
     "output_type": "stream",
     "text": [
      "The tensorboard extension is already loaded. To reload it, use:\n",
      "  %reload_ext tensorboard\n"
     ]
    }
   ],
   "source": [
    "#!pip install tensorboard\n",
    "%load_ext tensorboard"
   ]
  },
  {
   "cell_type": "code",
   "execution_count": 24,
   "id": "83bc4e99-d0dc-4ccf-bcdb-cb1a01ea937c",
   "metadata": {},
   "outputs": [
    {
     "data": {
      "text/plain": [
       "ERROR: Could not find `tensorboard`. Please ensure that your PATH\n",
       "contains an executable `tensorboard` program, or explicitly specify\n",
       "the path to a TensorBoard binary by setting the `TENSORBOARD_BINARY`\n",
       "environment variable."
      ]
     },
     "metadata": {},
     "output_type": "display_data"
    }
   ],
   "source": [
    "%tensorboard --logdir logs_flappy"
   ]
  },
  {
   "cell_type": "code",
   "execution_count": null,
   "id": "cc63e8d0-578f-454d-b4d3-5209ff69d156",
   "metadata": {},
   "outputs": [],
   "source": [
    "# Para guardar varias fases del entrenamiento\n",
    "# Para no tener que entrenar desde 0 el modelo: reset_num_timesteps=False\n",
    "\n",
    "#for i in range(1,100):\n",
    "#    model.learn(total_timesteps=TIMESTEPS, reset_num_timesteps=False, tb_log_name=\"DQN_flappybird\")\n",
    "#    model.save(f\"{models_dir}/{TIMESTEPS*i}\")"
   ]
  },
  {
   "cell_type": "markdown",
   "id": "d833319f-4f6b-45c6-8160-424cd5a80c01",
   "metadata": {},
   "source": [
    "### Evaluar al Agente"
   ]
  },
  {
   "cell_type": "code",
   "execution_count": null,
   "id": "c4d00d37-6ccf-4c18-8d88-b57aee429fc6",
   "metadata": {},
   "outputs": [],
   "source": [
    "import time\n",
    "import flappy_bird_gymnasium\n",
    "import gymnasium\n",
    "env = gymnasium.make(\"FlappyBird-v0\")\n",
    "\n",
    "obs, _ = env.reset()\n",
    "while True:\n",
    "    # Next action:\n",
    "    # (feed the observation to your agent here)\n",
    "    action = model.predict(obs, deterministic=False)\n",
    "\n",
    "    # Processing:\n",
    "    obs, reward, terminated, _, info = env.step(action)\n",
    "    \n",
    "    # Rendering the game:\n",
    "    # (remove this two lines during training)\n",
    "    env.render()\n",
    "    time.sleep(1 / 30)  # FPS\n",
    "    \n",
    "    # Checking if the player is still alive\n",
    "    if terminated:\n",
    "        break\n",
    "\n",
    "env.close()"
   ]
  },
  {
   "cell_type": "markdown",
   "id": "0cf3a987-72a5-46b2-8e04-46df9b826209",
   "metadata": {},
   "source": [
    "## Cargar Modelo ya entrenado"
   ]
  },
  {
   "cell_type": "code",
   "execution_count": 9,
   "id": "2a74eff5-b7bd-48e2-a3e4-fac16175ccad",
   "metadata": {},
   "outputs": [
    {
     "name": "stderr",
     "output_type": "stream",
     "text": [
      "C:\\Users\\driao\\AppData\\Roaming\\Python\\Python39\\site-packages\\stable_baselines3\\common\\save_util.py:166: UserWarning: Could not deserialize object lr_schedule. Consider using `custom_objects` argument to replace this object.\n",
      "Exception: Can't get attribute '_make_function' on <module 'cloudpickle.cloudpickle' from 'C:\\\\Users\\\\driao\\\\AppData\\\\Roaming\\\\Python\\\\Python39\\\\site-packages\\\\cloudpickle\\\\cloudpickle.py'>\n",
      "  warnings.warn(\n",
      "C:\\Users\\driao\\AppData\\Roaming\\Python\\Python39\\site-packages\\stable_baselines3\\common\\save_util.py:166: UserWarning: Could not deserialize object exploration_schedule. Consider using `custom_objects` argument to replace this object.\n",
      "Exception: Can't get attribute '_make_function' on <module 'cloudpickle.cloudpickle' from 'C:\\\\Users\\\\driao\\\\AppData\\\\Roaming\\\\Python\\\\Python39\\\\site-packages\\\\cloudpickle\\\\cloudpickle.py'>\n",
      "  warnings.warn(\n"
     ]
    }
   ],
   "source": [
    "# Cargar Modelo de Colab\n",
    "model = DQN.load(\"dqn_flappybird.zip\")"
   ]
  },
  {
   "cell_type": "markdown",
   "id": "46f2a860-34f5-435f-8569-80698c6149e0",
   "metadata": {},
   "source": [
    "## Probar el Agente entrenado"
   ]
  },
  {
   "cell_type": "code",
   "execution_count": null,
   "id": "fe77e4e5-8f9d-43e6-a33c-1ab41995aa19",
   "metadata": {},
   "outputs": [],
   "source": [
    "import gymnasium\n",
    "import time\n",
    "\n",
    "import gymnasium\n",
    "import numpy as np\n",
    "import pygame\n",
    "import tensorflow as tf\n",
    "\n",
    "import flappy_bird_gymnasium\n",
    "\n",
    "def play(epoch=10, audio_on=True, render=True):\n",
    "    env = gymnasium.make(\"FlappyBird-v0\", audio_on=audio_on)\n",
    "\n",
    "    # init models\n",
    "    #model = DQN(\"MlpPolicy\", env, verbose=1, tensorboard_log=logdir, buffer_size=10_000)\n",
    "    model = DQN.load(\"dqn_flappybird.zip\")\n",
    "\n",
    "    # run\n",
    "    for _ in range(epoch):\n",
    "        clock = pygame.time.Clock()\n",
    "        score = 0\n",
    "\n",
    "        state, _ = env.reset(seed=123)\n",
    "        state = np.expand_dims(state, axis=0)\n",
    "        while True:\n",
    "            if render:\n",
    "                env.render()\n",
    "\n",
    "            # Getting action\n",
    "            action, _ = model.predict(state, deterministic=False)\n",
    "            action = np.array(action, copy=False, dtype=env.env.action_space.dtype)\n",
    "\n",
    "            if render:\n",
    "                for event in pygame.event.get():\n",
    "                    if event.type == pygame.QUIT:\n",
    "                        pygame.quit()\n",
    "\n",
    "            # Processing action\n",
    "            next_state, reward, done, _, info = env.step(action)\n",
    "\n",
    "            state = np.expand_dims(next_state, axis=0)\n",
    "            score += reward\n",
    "            print(f\"Obs: {state}\\n\" f\"Action: {action}\\n\" f\"Score: {score}\\n\")\n",
    "\n",
    "            if render:\n",
    "                clock.tick(30)\n",
    "\n",
    "            if done:\n",
    "                if render:\n",
    "                    env.render()\n",
    "                    time.sleep(0.6)\n",
    "                break\n",
    "\n",
    "    env.close()\n",
    "    assert state.shape == (1, 12)\n",
    "    assert info[\"score\"] > 0\n",
    "    assert score > 10.999999999999977\n",
    "\n",
    "\n",
    "def test_play():\n",
    "    play(epoch=1, audio_on=False, render=False)\n",
    "\n",
    "\n",
    "if __name__ == \"__main__\":\n",
    "    play()"
   ]
  }
 ],
 "metadata": {
  "kernelspec": {
   "display_name": "Python 3 (ipykernel)",
   "language": "python",
   "name": "python3"
  },
  "language_info": {
   "codemirror_mode": {
    "name": "ipython",
    "version": 3
   },
   "file_extension": ".py",
   "mimetype": "text/x-python",
   "name": "python",
   "nbconvert_exporter": "python",
   "pygments_lexer": "ipython3",
   "version": "3.9.13"
  }
 },
 "nbformat": 4,
 "nbformat_minor": 5
}
